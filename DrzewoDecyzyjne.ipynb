{
 "cells": [
  {
   "cell_type": "code",
   "execution_count": 1,
   "metadata": {},
   "outputs": [],
   "source": [
    "%matplotlib inline"
   ]
  },
  {
   "cell_type": "code",
   "execution_count": 2,
   "metadata": {},
   "outputs": [],
   "source": [
    "import pandas as pd"
   ]
  },
  {
   "cell_type": "markdown",
   "metadata": {},
   "source": [
    "DANE"
   ]
  },
  {
   "cell_type": "code",
   "execution_count": 3,
   "metadata": {},
   "outputs": [],
   "source": [
    "wolne = ['książka', 'książka', 'książka', 'książka', 'telewizja', 'książka', 'telewizja', 'telewizja', 'książka', \n",
    "         'książka', 'telewizja', 'telewizja', 'telewizja', 'książka', 'telewizja', 'telewizja', 'telewizja', 'książka', \n",
    "         'książka', 'telewizja']\n",
    "napój = ['herbata', 'kawa', 'kawa', 'herbata', 'kawa', 'kawa', 'herbata', 'kawa', 'kawa', 'herbata', 'herbata', \n",
    "         'herbata', 'kawa', 'kawa', 'herbata', 'kawa', 'herbata', 'herbata', 'herbata', 'kawa']\n",
    "wyjście = ['teatr', 'teatr', 'kino', 'kino', 'teatr', 'kino', 'kino', 'teatr', 'kino', 'kino', 'kino', 'teatr', 'teatr',\n",
    "           'teatr', 'kino', 'kino', 'teatr', 'teatr', 'teatr', 'teatr']\n",
    "po_roku = ['Tak', 'Nie', 'Tak', 'Tak', 'Nie', 'Tak', 'Nie', 'Tak', 'Nie', 'Tak', 'Nie', 'Nie', 'Nie', 'Tak', 'Nie', \n",
    "           'Nie', 'Tak', 'Nie', 'Nie', 'Tak']"
   ]
  },
  {
   "cell_type": "code",
   "execution_count": 4,
   "metadata": {},
   "outputs": [],
   "source": [
    "prenumeratorzy = pd.DataFrame({\"wolne\" : wolne, \"napój\": napój, \"wyjście\": wyjście, \"po_roku\":po_roku})"
   ]
  },
  {
   "cell_type": "code",
   "execution_count": 5,
   "metadata": {},
   "outputs": [
    {
     "data": {
      "text/html": [
       "<div>\n",
       "<style scoped>\n",
       "    .dataframe tbody tr th:only-of-type {\n",
       "        vertical-align: middle;\n",
       "    }\n",
       "\n",
       "    .dataframe tbody tr th {\n",
       "        vertical-align: top;\n",
       "    }\n",
       "\n",
       "    .dataframe thead th {\n",
       "        text-align: right;\n",
       "    }\n",
       "</style>\n",
       "<table border=\"1\" class=\"dataframe\">\n",
       "  <thead>\n",
       "    <tr style=\"text-align: right;\">\n",
       "      <th></th>\n",
       "      <th>wolne</th>\n",
       "      <th>napój</th>\n",
       "      <th>wyjście</th>\n",
       "      <th>po_roku</th>\n",
       "    </tr>\n",
       "  </thead>\n",
       "  <tbody>\n",
       "    <tr>\n",
       "      <th>0</th>\n",
       "      <td>książka</td>\n",
       "      <td>herbata</td>\n",
       "      <td>teatr</td>\n",
       "      <td>Tak</td>\n",
       "    </tr>\n",
       "    <tr>\n",
       "      <th>1</th>\n",
       "      <td>książka</td>\n",
       "      <td>kawa</td>\n",
       "      <td>teatr</td>\n",
       "      <td>Nie</td>\n",
       "    </tr>\n",
       "    <tr>\n",
       "      <th>2</th>\n",
       "      <td>książka</td>\n",
       "      <td>kawa</td>\n",
       "      <td>kino</td>\n",
       "      <td>Tak</td>\n",
       "    </tr>\n",
       "    <tr>\n",
       "      <th>3</th>\n",
       "      <td>książka</td>\n",
       "      <td>herbata</td>\n",
       "      <td>kino</td>\n",
       "      <td>Tak</td>\n",
       "    </tr>\n",
       "    <tr>\n",
       "      <th>4</th>\n",
       "      <td>telewizja</td>\n",
       "      <td>kawa</td>\n",
       "      <td>teatr</td>\n",
       "      <td>Nie</td>\n",
       "    </tr>\n",
       "    <tr>\n",
       "      <th>5</th>\n",
       "      <td>książka</td>\n",
       "      <td>kawa</td>\n",
       "      <td>kino</td>\n",
       "      <td>Tak</td>\n",
       "    </tr>\n",
       "    <tr>\n",
       "      <th>6</th>\n",
       "      <td>telewizja</td>\n",
       "      <td>herbata</td>\n",
       "      <td>kino</td>\n",
       "      <td>Nie</td>\n",
       "    </tr>\n",
       "    <tr>\n",
       "      <th>7</th>\n",
       "      <td>telewizja</td>\n",
       "      <td>kawa</td>\n",
       "      <td>teatr</td>\n",
       "      <td>Tak</td>\n",
       "    </tr>\n",
       "    <tr>\n",
       "      <th>8</th>\n",
       "      <td>książka</td>\n",
       "      <td>kawa</td>\n",
       "      <td>kino</td>\n",
       "      <td>Nie</td>\n",
       "    </tr>\n",
       "    <tr>\n",
       "      <th>9</th>\n",
       "      <td>książka</td>\n",
       "      <td>herbata</td>\n",
       "      <td>kino</td>\n",
       "      <td>Tak</td>\n",
       "    </tr>\n",
       "    <tr>\n",
       "      <th>10</th>\n",
       "      <td>telewizja</td>\n",
       "      <td>herbata</td>\n",
       "      <td>kino</td>\n",
       "      <td>Nie</td>\n",
       "    </tr>\n",
       "    <tr>\n",
       "      <th>11</th>\n",
       "      <td>telewizja</td>\n",
       "      <td>herbata</td>\n",
       "      <td>teatr</td>\n",
       "      <td>Nie</td>\n",
       "    </tr>\n",
       "    <tr>\n",
       "      <th>12</th>\n",
       "      <td>telewizja</td>\n",
       "      <td>kawa</td>\n",
       "      <td>teatr</td>\n",
       "      <td>Nie</td>\n",
       "    </tr>\n",
       "    <tr>\n",
       "      <th>13</th>\n",
       "      <td>książka</td>\n",
       "      <td>kawa</td>\n",
       "      <td>teatr</td>\n",
       "      <td>Tak</td>\n",
       "    </tr>\n",
       "    <tr>\n",
       "      <th>14</th>\n",
       "      <td>telewizja</td>\n",
       "      <td>herbata</td>\n",
       "      <td>kino</td>\n",
       "      <td>Nie</td>\n",
       "    </tr>\n",
       "    <tr>\n",
       "      <th>15</th>\n",
       "      <td>telewizja</td>\n",
       "      <td>kawa</td>\n",
       "      <td>kino</td>\n",
       "      <td>Nie</td>\n",
       "    </tr>\n",
       "    <tr>\n",
       "      <th>16</th>\n",
       "      <td>telewizja</td>\n",
       "      <td>herbata</td>\n",
       "      <td>teatr</td>\n",
       "      <td>Tak</td>\n",
       "    </tr>\n",
       "    <tr>\n",
       "      <th>17</th>\n",
       "      <td>książka</td>\n",
       "      <td>herbata</td>\n",
       "      <td>teatr</td>\n",
       "      <td>Nie</td>\n",
       "    </tr>\n",
       "    <tr>\n",
       "      <th>18</th>\n",
       "      <td>książka</td>\n",
       "      <td>herbata</td>\n",
       "      <td>teatr</td>\n",
       "      <td>Nie</td>\n",
       "    </tr>\n",
       "    <tr>\n",
       "      <th>19</th>\n",
       "      <td>telewizja</td>\n",
       "      <td>kawa</td>\n",
       "      <td>teatr</td>\n",
       "      <td>Tak</td>\n",
       "    </tr>\n",
       "  </tbody>\n",
       "</table>\n",
       "</div>"
      ],
      "text/plain": [
       "        wolne    napój wyjście po_roku\n",
       "0     książka  herbata   teatr     Tak\n",
       "1     książka     kawa   teatr     Nie\n",
       "2     książka     kawa    kino     Tak\n",
       "3     książka  herbata    kino     Tak\n",
       "4   telewizja     kawa   teatr     Nie\n",
       "5     książka     kawa    kino     Tak\n",
       "6   telewizja  herbata    kino     Nie\n",
       "7   telewizja     kawa   teatr     Tak\n",
       "8     książka     kawa    kino     Nie\n",
       "9     książka  herbata    kino     Tak\n",
       "10  telewizja  herbata    kino     Nie\n",
       "11  telewizja  herbata   teatr     Nie\n",
       "12  telewizja     kawa   teatr     Nie\n",
       "13    książka     kawa   teatr     Tak\n",
       "14  telewizja  herbata    kino     Nie\n",
       "15  telewizja     kawa    kino     Nie\n",
       "16  telewizja  herbata   teatr     Tak\n",
       "17    książka  herbata   teatr     Nie\n",
       "18    książka  herbata   teatr     Nie\n",
       "19  telewizja     kawa   teatr     Tak"
      ]
     },
     "execution_count": 5,
     "metadata": {},
     "output_type": "execute_result"
    }
   ],
   "source": [
    "prenumeratorzy"
   ]
  },
  {
   "cell_type": "markdown",
   "metadata": {},
   "source": [
    "ENTROPIA\n",
    "\n",
    "-wartość którą chcemy zminimalizować\n",
    "\n",
    "WYKRES ENTROPII BINARNEJ"
   ]
  },
  {
   "cell_type": "code",
   "execution_count": 7,
   "metadata": {},
   "outputs": [
    {
     "data": {
      "image/png": "[encoded data removed]",
      "text/plain": [
       "<Figure size 432x288 with 1 Axes>"
      ]
     },
     "metadata": {
      "needs_background": "light"
     },
     "output_type": "display_data"
    }
   ],
   "source": [
    "import pylab\n",
    "import numpy as np\n",
    "\n",
    "x = np.linspace(0.0001,0.9999,1000) # 1000 punktów\n",
    "y = -x * np.log2(x) - (1-x) * np.log2(1-x) # wyznaczenie wartości entropii\n",
    "\n",
    "# wykres\n",
    "pylab.plot(x,y)\n",
    "pylab.grid()\n",
    "pylab.show()"
   ]
  },
  {
   "cell_type": "code",
   "execution_count": 8,
   "metadata": {},
   "outputs": [],
   "source": [
    "P_Tak = len(prenumeratorzy[prenumeratorzy[\"po_roku\"] == \"Tak\"]) / len(prenumeratorzy)\n",
    "P_Nie = len(prenumeratorzy[prenumeratorzy[\"po_roku\"] == \"Nie\"]) / len(prenumeratorzy)"
   ]
  },
  {
   "cell_type": "code",
   "execution_count": 9,
   "metadata": {},
   "outputs": [
    {
     "data": {
      "text/plain": [
       "(0.45, 0.55)"
      ]
     },
     "execution_count": 9,
     "metadata": {},
     "output_type": "execute_result"
    }
   ],
   "source": [
    "P_Tak, P_Nie"
   ]
  },
  {
   "cell_type": "code",
   "execution_count": 10,
   "metadata": {},
   "outputs": [],
   "source": [
    "H_całość = -P_Tak * np.log2(P_Tak) - P_Nie * np.log2(P_Nie)"
   ]
  },
  {
   "cell_type": "code",
   "execution_count": 11,
   "metadata": {},
   "outputs": [
    {
     "data": {
      "text/plain": [
       "0.9927744539878083"
      ]
     },
     "execution_count": 11,
     "metadata": {},
     "output_type": "execute_result"
    }
   ],
   "source": [
    "H_całość"
   ]
  },
  {
   "cell_type": "markdown",
   "metadata": {},
   "source": [
    "Podział po czasie wonym"
   ]
  },
  {
   "cell_type": "code",
   "execution_count": 12,
   "metadata": {},
   "outputs": [],
   "source": [
    "prenumeratorzy_książka = prenumeratorzy[prenumeratorzy[\"wolne\"] == \"książka\"]\n",
    "prenumeratorzy_telewizja = prenumeratorzy[prenumeratorzy[\"wolne\"] == \"telewizja\"]"
   ]
  },
  {
   "cell_type": "code",
   "execution_count": 13,
   "metadata": {},
   "outputs": [],
   "source": [
    "P_Tak_książka = len(prenumeratorzy_książka[prenumeratorzy_książka[\"po_roku\"] == \"Tak\"]) / len(prenumeratorzy_książka)\n",
    "P_Nie_książka = len(prenumeratorzy_książka[prenumeratorzy_książka[\"po_roku\"] == \"Nie\"]) / len(prenumeratorzy_książka)\n",
    "H_książka = -P_Tak_książka * np.log2(P_Tak_książka) - P_Nie_książka * np.log2(P_Nie_książka)"
   ]
  },
  {
   "cell_type": "code",
   "execution_count": 14,
   "metadata": {},
   "outputs": [
    {
     "data": {
      "text/plain": [
       "0.9709505944546686"
      ]
     },
     "execution_count": 14,
     "metadata": {},
     "output_type": "execute_result"
    }
   ],
   "source": [
    "H_książka"
   ]
  },
  {
   "cell_type": "markdown",
   "metadata": {},
   "source": [
    "ENTROPIA JAKO FUNKCJA"
   ]
  },
  {
   "cell_type": "code",
   "execution_count": 15,
   "metadata": {},
   "outputs": [],
   "source": [
    "def obliczenie_entropii(data_frame):\n",
    "    p_tak = len(data_frame[data_frame[\"po_roku\"] == \"Tak\"]) / len(data_frame)\n",
    "    p_nie = 1 - p_tak\n",
    "    H = -p_tak * np.log2(p_tak) - p_nie * np.log2(p_nie)\n",
    "    return H"
   ]
  },
  {
   "cell_type": "code",
   "execution_count": 16,
   "metadata": {},
   "outputs": [],
   "source": [
    "H_telewizja = obliczenie_entropii(prenumeratorzy_telewizja)"
   ]
  },
  {
   "cell_type": "code",
   "execution_count": 17,
   "metadata": {},
   "outputs": [
    {
     "data": {
      "text/plain": [
       "0.8812908992306927"
      ]
     },
     "execution_count": 17,
     "metadata": {},
     "output_type": "execute_result"
    }
   ],
   "source": [
    "H_telewizja"
   ]
  },
  {
   "cell_type": "markdown",
   "metadata": {},
   "source": [
    "PODZIAŁ PO NAPOJACH"
   ]
  },
  {
   "cell_type": "code",
   "execution_count": 18,
   "metadata": {},
   "outputs": [],
   "source": [
    "prenumeratorzy_kawa = prenumeratorzy[prenumeratorzy[\"napój\"] == \"kawa\"]\n",
    "prenumeratorzy_herbata = prenumeratorzy[prenumeratorzy[\"napój\"] == \"herbata\"]"
   ]
  },
  {
   "cell_type": "code",
   "execution_count": 19,
   "metadata": {},
   "outputs": [],
   "source": [
    "H_kawa = obliczenie_entropii(prenumeratorzy_kawa)\n",
    "H_herbata = obliczenie_entropii(prenumeratorzy_herbata)"
   ]
  },
  {
   "cell_type": "code",
   "execution_count": 20,
   "metadata": {},
   "outputs": [
    {
     "data": {
      "text/plain": [
       "(1.0, 0.9709505944546686)"
      ]
     },
     "execution_count": 20,
     "metadata": {},
     "output_type": "execute_result"
    }
   ],
   "source": [
    "H_kawa, H_herbata"
   ]
  },
  {
   "cell_type": "code",
   "execution_count": null,
   "metadata": {},
   "outputs": [],
   "source": []
  }
 ],
 "metadata": {
  "kernelspec": {
   "display_name": "Python 3",
   "language": "python",
   "name": "python3"
  },
  "language_info": {
   "codemirror_mode": {
    "name": "ipython",
    "version": 3
   },
   "file_extension": ".py",
   "mimetype": "text/x-python",
   "name": "python",
   "nbconvert_exporter": "python",
   "pygments_lexer": "ipython3",
   "version": "3.8.5"
  }
 },
 "nbformat": 4,
 "nbformat_minor": 4
}
